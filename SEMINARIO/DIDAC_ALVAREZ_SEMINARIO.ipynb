{
  "nbformat": 4,
  "nbformat_minor": 0,
  "metadata": {
    "colab": {
      "name": "DIDAC_ALVAREZ_SEMINARIO.ipynb",
      "provenance": [],
      "collapsed_sections": []
    },
    "kernelspec": {
      "name": "python3",
      "display_name": "Python 3"
    }
  },
  "cells": [
    {
      "cell_type": "markdown",
      "metadata": {
        "id": "hVbXYX-RfPWh"
      },
      "source": [
        "# Algoritmos de optimización - Seminario<br>\n",
        "Nombre y Apellidos:   <br>\n",
        "Url: https://colab.research.google.com/drive/1xaj-TDQuyi0PSbJdYbssfREoqzE8ktFx?usp=sharing<br>\n",
        "Problema:\n",
        "> 1. Elección de grupos de población homogéneos <br>\n",
        ">2. Organizar los horarios de partidos de La Liga<br>\n",
        ">3. Combinar cifras y operaciones\n",
        "\n",
        "Descripción del problema:(copiar enunciado)\n",
        "\n",
        "....\n",
        "\n",
        "(*) La respuesta es obligatoria\n",
        "\n",
        "\n",
        "\n",
        "\n",
        "\n",
        "                                        "
      ]
    },
    {
      "cell_type": "markdown",
      "metadata": {
        "id": "_tP1KMuxd3CI"
      },
      "source": [
        "El problema consiste en analizar el siguiente problema y disenar un algoritmo que lo resuelva.\r\n",
        "Disponemos de las 9 cifras del 1 al 9 (excluimos el cero) y de los 4 signos basicos de las\r\n",
        "operaciones fundamentales: suma(+), resta(-), multiplicacion(*) y division(/)\r\n",
        "Debemos combinarlos alternativamente sin repetir ninguno de ellos para obtener una\r\n",
        "cantidad dada."
      ]
    },
    {
      "cell_type": "markdown",
      "metadata": {
        "id": "3_-exlrTgLd-"
      },
      "source": [
        "(*)¿Cuantas posibilidades hay sin tener en cuenta las restricciones?<br>\n",
        "\n",
        "\n",
        "\n",
        "¿Cuantas posibilidades hay teniendo en cuenta todas las restricciones.\n",
        "\n",
        "\n"
      ]
    },
    {
      "cell_type": "markdown",
      "metadata": {
        "id": "WfCUqJyKhPcw"
      },
      "source": [
        "Respuesta"
      ]
    },
    {
      "cell_type": "markdown",
      "metadata": {
        "id": "Gz6_fVSlducc"
      },
      "source": [
        "- Sin tener en cuenta las restriciones, es decir, repitiendo signos y cualquier número entero, podemos obtener cualquier valor   real o irracional que se nos plantee."
      ]
    },
    {
      "cell_type": "markdown",
      "metadata": {
        "id": "VvPH0tojesjS"
      },
      "source": [
        "\r\n",
        "- Si tenemos en cuenta las restriciones, el valor máximo que podemos obtener es de 129, por ejemplo:\r\n",
        "        7+8x9-6/1 = 129\r\n",
        "- Siendo el valor mínimo es -68, como por ejemplo:\r\n",
        "        1+2/6-9x8 = -68\r\n"
      ]
    },
    {
      "cell_type": "markdown",
      "metadata": {
        "id": "dzynfVJahHoY"
      },
      "source": [
        "Modelo para el espacio de soluciones<br>\n",
        "(*) ¿Cual es la estructura de datos que mejor se adapta al problema? Argumentalo.(Es posible que hayas elegido una al principio y veas la necesidad de cambiar, arguentalo)\n"
      ]
    },
    {
      "cell_type": "markdown",
      "metadata": {
        "id": "xFIJrOwKi2Ti"
      },
      "source": [
        "Respuesta"
      ]
    },
    {
      "cell_type": "markdown",
      "metadata": {
        "id": "MRTJBkB0h2ay"
      },
      "source": [
        "- En un inicio pensé en utilizar un algoritmo voráz, sin embargo, me surgía un problema. El problema es que cuando un valor hace augmentar el resultado a través de la suma o de la multiplicación, o de forma simétrica, reducirlo por división o la resta. Compensar la división con la suma o la resta con la multiplicación es casi imposible, por lo que limita mucho la opción de encontratr un resultado."
      ]
    },
    {
      "cell_type": "markdown",
      "metadata": {
        "id": "2XysLC4iiJhK"
      },
      "source": [
        "- De esta manera, opté por el modelo de ramificación y poda. En este algoritmo, lo que hago es que genero todos los posibles pares de valores, y les aplico todas las operaciones posibles. Una vez hecho esto, estudio cual es elvalor máximo o mínimo que me puede ofrecer este inicio, es decir, las diferentes posibilidades o ramas. Si el valor objetivo no está dentro del margen, desecho esa rama y siguo con la siguiente. Repitiendo este patrón a medida que a los valores posibles les añado mas valores y mas operadores."
      ]
    },
    {
      "cell_type": "markdown",
      "metadata": {
        "id": "7Z9U2W7bi-XS"
      },
      "source": [
        "Según el modelo para el espacio de soluciones<br>\n",
        "(*)¿Cual es la función objetivo?\n",
        "\n",
        "(*)¿Es un problema de maximización o minimización?"
      ]
    },
    {
      "cell_type": "markdown",
      "metadata": {
        "id": "hBalWLM7j1_d"
      },
      "source": [
        "Respuesta"
      ]
    },
    {
      "cell_type": "markdown",
      "metadata": {
        "id": "5PpOR97QjHM6"
      },
      "source": [
        "- La función objetivo es la de buscar el 0 en la función de error entre el valor propuesto y el propuesto por el algoritmo."
      ]
    },
    {
      "cell_type": "markdown",
      "metadata": {
        "id": "WEqnjBrFjHWB"
      },
      "source": [
        "- Sería un problema de minimización de función de error"
      ]
    },
    {
      "cell_type": "markdown",
      "metadata": {
        "id": "_Ypu_m6alUzM"
      },
      "source": [
        "Diseña un algoritmo para resolver el problema por fuerza bruta"
      ]
    },
    {
      "cell_type": "markdown",
      "metadata": {
        "id": "70rDgxYXkC8r"
      },
      "source": [
        "Respuesta"
      ]
    },
    {
      "cell_type": "code",
      "metadata": {
        "id": "CJb5sQ0qkENy"
      },
      "source": [
        "from itertools import permutations  \r\n",
        "import time"
      ],
      "execution_count": 11,
      "outputs": []
    },
    {
      "cell_type": "code",
      "metadata": {
        "id": "gyYqgQYumR0J"
      },
      "source": [
        "# Con esta funcion definimos las posibles permutaciones que pueden tomar los valores dentro de la\r\n",
        "# lista que le enviamos teniendo en cuenta el número de valores resultantes\r\n",
        "\r\n",
        "def combinatori(arr,n):\r\n",
        "\r\n",
        "  posib = []\r\n",
        "  resul = permutations(arr,n)\r\n",
        "\r\n",
        "  for j in list(resul): \r\n",
        "    posib.append(j) \r\n",
        "\r\n",
        "  return posib"
      ],
      "execution_count": 12,
      "outputs": []
    },
    {
      "cell_type": "code",
      "metadata": {
        "id": "8w6mQTxZmR3Q"
      },
      "source": [
        "def fuerza_bruta(valor):\r\n",
        "\r\n",
        "  num_disp = [1,2,3,4,5,6,7,8,9]\r\n",
        "  operator = (\"suma\",\"resta\",\"multiplicacion\",\"division\")\r\n",
        "\r\n",
        "  posib_oper = combinatori(operator, 4)\r\n",
        "  posib_valores = combinatori(num_disp, 5)\r\n",
        "\r\n",
        "  resultado=[]\r\n",
        "  operaciones=[]\r\n",
        "  valores=[]\r\n",
        "\r\n",
        "  # A continuación geenramos un bucle anidado en otro, uno recorre las operaciones y otro los valores, \r\n",
        "  # de manera que evaluamos cada juego de valores con las posibles combianciones de operadores\r\n",
        "\r\n",
        "  for j in posib_oper:\r\n",
        "    for i in posib_valores:\r\n",
        "  \r\n",
        "      resultado_unico = i[0]\r\n",
        "\r\n",
        "      n = 0\r\n",
        "\r\n",
        "      for k in j:\r\n",
        "\r\n",
        "        n += 1\r\n",
        "\r\n",
        "        if k == \"suma\":\r\n",
        "\r\n",
        "          resultado_unico = resultado_unico + i[n]\r\n",
        "\r\n",
        "        if k == \"resta\":\r\n",
        "\r\n",
        "          resultado_unico = resultado_unico - i[n]\r\n",
        "\r\n",
        "        if k == \"multiplicacion\":\r\n",
        "\r\n",
        "          resultado_unico = resultado_unico * i[n]\r\n",
        "\r\n",
        "        if k == \"division\":\r\n",
        "\r\n",
        "          resultado_unico = resultado_unico / i[n]\r\n",
        "\r\n",
        "      if resultado_unico == valor:\r\n",
        "\r\n",
        "        resultado.append(resultado_unico)\r\n",
        "\r\n",
        "        operaciones.append(j)\r\n",
        "\r\n",
        "        valores.append(i)\r\n",
        "\r\n",
        "    simbolo_operaciones=[]\r\n",
        "\r\n",
        "  for i in operaciones:\r\n",
        "    simbolo_operaciones.append(list(i))\r\n",
        "\r\n",
        "  # Sustituimos los strings con nombre de los operadores por el simbolo de operadoes, \r\n",
        "  # Para su posterior muestra de posibles resultados\r\n",
        "\r\n",
        "  for i in range(len(simbolo_operaciones)):\r\n",
        "    for j in range(len(simbolo_operaciones[i])):\r\n",
        "\r\n",
        "      if simbolo_operaciones[i][j] == 'suma':\r\n",
        "        simbolo_operaciones[i][j] = \"+\"\r\n",
        "\r\n",
        "      if simbolo_operaciones[i][j] == \"resta\":\r\n",
        "        simbolo_operaciones[i][j] = \"-\"\r\n",
        "\r\n",
        "      if simbolo_operaciones[i][j] == \"multiplicacion\":\r\n",
        "        simbolo_operaciones[i][j] = \"x\"\r\n",
        "\r\n",
        "      if simbolo_operaciones[i][j] == \"division\":\r\n",
        "        simbolo_operaciones[i][j] = \"/\"\r\n",
        "\r\n",
        "  return resultado,simbolo_operaciones,valores\r\n"
      ],
      "execution_count": 13,
      "outputs": []
    },
    {
      "cell_type": "code",
      "metadata": {
        "colab": {
          "base_uri": "https://localhost:8080/",
          "height": 0
        },
        "id": "oI76OviJsTNq",
        "outputId": "87f48561-54c6-401a-e320-d2264b3e8626"
      },
      "source": [
        "print(\"introduce el valor que desees encontrar\")\r\n",
        "valor= int(input())\r\n",
        "\r\n",
        "resultado,operaciones,valores = fuerza_bruta(valor)\r\n",
        "\r\n",
        "print(\"un ejemplo de algunas de estas pueden ser:\")\r\n",
        "print(\"\")\r\n",
        "\r\n",
        "if len(resultado) < 20 :\r\n",
        "  for i in range(len(resultado)):\r\n",
        "    print(valores[i][0],operaciones[i][0],valores[i][1],operaciones[i][1],valores[i][2],operaciones[i][2],valores[i][3],operaciones[i][3],valores[i][4],\"=\",resultado[i])\r\n",
        "\r\n",
        "else:\r\n",
        "  for i in range(20):\r\n",
        "    print(valores[i][0],operaciones[i][0],valores[i][1],operaciones[i][1],valores[i][2],operaciones[i][2],valores[i][3],operaciones[i][3],valores[i][4],\"=\",resultado[i])\r\n",
        "\r\n",
        "if len(resultado)==0 :\r\n",
        "  print(\"No se a encontrado ningún tipo de conjunto que encuentre este valor\")"
      ],
      "execution_count": 14,
      "outputs": [
        {
          "output_type": "stream",
          "text": [
            "introduce el valor que desees encontrar\n",
            "56\n",
            "un ejemplo de algunas de estas pueden ser:\n",
            "\n",
            "2 + 9 - 3 x 7 / 1 = 56.0\n",
            "2 + 9 - 4 x 8 / 1 = 56.0\n",
            "3 + 6 - 2 x 8 / 1 = 56.0\n",
            "3 + 9 - 4 x 7 / 1 = 56.0\n",
            "3 + 9 - 5 x 8 / 1 = 56.0\n",
            "4 + 5 - 2 x 8 / 1 = 56.0\n",
            "4 + 6 - 2 x 7 / 1 = 56.0\n",
            "4 + 6 - 3 x 8 / 1 = 56.0\n",
            "4 + 9 - 5 x 7 / 1 = 56.0\n",
            "4 + 9 - 6 x 8 / 1 = 56.0\n",
            "5 + 4 - 2 x 8 / 1 = 56.0\n",
            "5 + 6 - 3 x 7 / 1 = 56.0\n",
            "5 + 6 - 4 x 8 / 1 = 56.0\n",
            "5 + 9 - 6 x 7 / 1 = 56.0\n",
            "5 + 9 - 7 x 8 / 1 = 56.0\n",
            "6 + 3 - 2 x 8 / 1 = 56.0\n",
            "6 + 4 - 2 x 7 / 1 = 56.0\n",
            "6 + 4 - 3 x 8 / 1 = 56.0\n",
            "6 + 5 - 3 x 7 / 1 = 56.0\n",
            "6 + 5 - 4 x 8 / 1 = 56.0\n"
          ],
          "name": "stdout"
        }
      ]
    },
    {
      "cell_type": "markdown",
      "metadata": {
        "id": "tgrnsC2nkFa8"
      },
      "source": [
        "Calcula la complejidad del algoritmo por fuerza bruta"
      ]
    },
    {
      "cell_type": "markdown",
      "metadata": {
        "id": "9eUd3xwckP68"
      },
      "source": [
        "Respuesta"
      ]
    },
    {
      "cell_type": "markdown",
      "metadata": {
        "id": "NDYNK3gqj2mo"
      },
      "source": [
        "Este algoritmo depende del tamaño de dos entradas, la de operaciones y la de los valores que se uitlizan. Como la función del algoritmo es generar todas las posibles combinaciones posibles y evaluarlas, debe generar dos inputs nuevos con cada una de las entradas anteriores. Esto se lleva a cabo con la libreria itertools, para comparar complejidades obviamos esta parte ya que en ambos algoritmos es igual.\r\n",
        "\r\n",
        "La complejidad reside en la comparación de ambos nuevos inputs. Para ello recorremos una lista y en cada una de los elementos recorremos la otra lista. Obviando los cálculos que se realizan en cada recorrido, ya que estos solo harán augmentar el tiempo de ejecución de manera lineal, vemos que el tiempo de pende de la lista de operadores (a) y la lista de valores (n), de manera:\r\n",
        "\r\n",
        "- o(n**a)\r\n",
        "\r\n",
        "Tenemos una complejidad de orden polinómico"
      ]
    },
    {
      "cell_type": "markdown",
      "metadata": {
        "id": "txbrmLmskReM"
      },
      "source": [
        "(*)Diseña un algoritmo que mejore la complejidad del algortimo por fuerza bruta. Argumenta porque crees que mejora el algoritmo por fuerza bruta"
      ]
    },
    {
      "cell_type": "markdown",
      "metadata": {
        "id": "hLrVwt5QkZPD"
      },
      "source": [
        "Respuesta"
      ]
    },
    {
      "cell_type": "markdown",
      "metadata": {
        "id": "O6HvezMPlyXV"
      },
      "source": [
        "- Este algoritmo mejora la fuerza bruta devido a que no comprueba todas las posibles combinaciones. Inicia las pruebas por un número de combinaciones posibles con dos valores, y elimina las que no son factibles reduciendo considerablemente el número de iteraciones futuros. Aplicando este método a medida que añadimos valores y operadores."
      ]
    },
    {
      "cell_type": "code",
      "metadata": {
        "id": "P6wBxG40XsNy"
      },
      "source": [
        "#Esta funcion defina las operaciones que llevamos a cabo\r\n",
        "def opera(a,b,oper):\r\n",
        "\r\n",
        "  if oper == \"suma\":\r\n",
        "    return a+b\r\n",
        "\r\n",
        "  if oper == \"resta\":\r\n",
        "    return a-b\r\n",
        "\r\n",
        "  if oper == \"multiplicacion\":\r\n",
        "    return a*b\r\n",
        "  \r\n",
        "  if oper == \"division\":\r\n",
        "    return a/b"
      ],
      "execution_count": 15,
      "outputs": []
    },
    {
      "cell_type": "code",
      "metadata": {
        "id": "3hKk-ZKLXsRE"
      },
      "source": [
        "# Esta función nos permite buscar el máximo o el mínimo posible de cada valor teniendo en cuenta los valores restantes \r\n",
        "# y las operaciones que nos quedan por hacer\r\n",
        "def eval(resultado,valores,oper_pend,maxim):\r\n",
        "\r\n",
        "  operaciones = list(oper_pend[:])\r\n",
        "\r\n",
        "  # Definimos las variables a,b,c y d que nos proporcionaran la posición del valor que debemos usar para calcular el máximo posible o el mínimo.\r\n",
        "  # Esto irá en función de los operadores que queden por usar, si queremos augmentar el valor máximo, y queda suma y multiplicación, deberemos\r\n",
        "  # asignar el número mayor para su multiplicación.\r\n",
        "\r\n",
        "  for i in operaciones:\r\n",
        "\r\n",
        "\r\n",
        "    if \"multiplicacion\" in operaciones:\r\n",
        "      if \"division\" in operaciones:\r\n",
        "        if maxim==True:\r\n",
        "          a,b,c,d = -2,-1,1,0\r\n",
        "        else:\r\n",
        "          a,b,c,d = 1,0,-2,-1\r\n",
        "\r\n",
        "\r\n",
        "    if \"multiplicacion\"  in operaciones:\r\n",
        "      if maxim==True:\r\n",
        "        a,b,c = -2,-1,0\r\n",
        "          \r\n",
        "      else:\r\n",
        "        a,b,c = 1,0,-1\r\n",
        "\r\n",
        "    if \"division\"  in operaciones:\r\n",
        "      if maxim==True:\r\n",
        "        a,c,d = -1,1,0\r\n",
        "      else:\r\n",
        "        a,c,d = 0,-2,-1\r\n",
        "\r\n",
        "    if \"multiplicacion\" not in operaciones:\r\n",
        "      if \"division\" not in operaciones:\r\n",
        "        if maxim==True:\r\n",
        "          a,c = -1,0\r\n",
        "        else:\r\n",
        "          a,c = 0,-1\r\n",
        "\r\n",
        "    # Ordenamos las listas para asegurar la posición de los valores restantes\r\n",
        "\r\n",
        "    if i == \"suma\":\r\n",
        "\r\n",
        "      n =+1\r\n",
        "      valores.sort()\r\n",
        "      resultado = opera(resultado,valores[a],i)\r\n",
        "\r\n",
        "    if i == \"multiplicacion\":\r\n",
        "      valores.sort()\r\n",
        "      resultado = opera(resultado,valores[b],i)\r\n",
        "\r\n",
        "    if i == \"resta\":\r\n",
        "      valores.sort()\r\n",
        "      resultado = opera(resultado,valores[c],i)\r\n",
        "                      \r\n",
        "    if i == \"division\":\r\n",
        "      valores.sort()\r\n",
        "      resultado = opera(resultado,valores[d],i)\r\n",
        "\r\n",
        "  return resultado"
      ],
      "execution_count": 16,
      "outputs": []
    },
    {
      "cell_type": "code",
      "metadata": {
        "id": "pYhjSsJtXsTy"
      },
      "source": [
        "def ramificacion_y_poda(valor):\r\n",
        "\r\n",
        "  num_disp = [1,2,3,4,5,6,7,8,9]\r\n",
        "  operator = (\"suma\",\"resta\",\"multiplicacion\",\"division\")\r\n",
        "\r\n",
        "  posib_valores = combinatori(num_disp, 2)\r\n",
        "  posib_oper = combinatori(operator, 4)\r\n",
        "\r\n",
        "  maxim = True\r\n",
        "  minim = False\r\n",
        "\r\n",
        "  resul=[]\r\n",
        "  operac=[]\r\n",
        "  valores=[]\r\n",
        "\r\n",
        "  primer_resul=[]\r\n",
        "  primer_operac=[]\r\n",
        "  primer_valores=[]\r\n",
        "\r\n",
        "  segun_resul=[]\r\n",
        "  segun_operac=[]\r\n",
        "  segun_valores=[]\r\n",
        "\r\n",
        "  tercer_resul=[]\r\n",
        "  tercer_operac=[]\r\n",
        "  tercer_valores=[]\r\n",
        "\r\n",
        "  final_resul=[]\r\n",
        "  final_operac=[]\r\n",
        "  final_valores=[]\r\n",
        "\r\n",
        "  # Aquí genero todas las posibles combinaciones de dos, de operadores y valores de la suma de estos dos\r\n",
        "  for i in posib_valores:\r\n",
        "    for j in posib_oper:\r\n",
        "      iniciales = opera(i[0],i[1],j[0])\r\n",
        "      resul.append(iniciales)\r\n",
        "      operac.append(j)\r\n",
        "      valores.append(i)\r\n",
        "\r\n",
        "  # Aquí evaluo cada uno de los posibles creados antes\r\n",
        "\r\n",
        "  for i in range(len(resul)):\r\n",
        "\r\n",
        "    resultado = resul[i]\r\n",
        "\r\n",
        "    value = num_disp[:]\r\n",
        "    value.remove(valores[i][0])\r\n",
        "    value.remove(valores[i][1])\r\n",
        "\r\n",
        "    oper_pend = list(operac[i][-3:])\r\n",
        "\r\n",
        "\r\n",
        "    maximo = eval(resultado,value,oper_pend,maxim)\r\n",
        "    minimo = eval(resultado,value,oper_pend,minim)\r\n",
        "\r\n",
        "    if valor <= maximo and valor >= minimo:\r\n",
        "\r\n",
        "      primer_resul.append(resul[i])\r\n",
        "      primer_operac.append(operac[i])\r\n",
        "      primer_valores.append(valores[i])\r\n",
        "\r\n",
        "  # A continuacion, añado otro valor mas junto a otro operador y vuelvo a evaluar\r\n",
        "\r\n",
        "  resultado=[]\r\n",
        "\r\n",
        "\r\n",
        "  for i in range(len(primer_resul)):\r\n",
        "\r\n",
        "    # Reservo los valores no utilizados todavia\r\n",
        "    value_rest = num_disp[:]\r\n",
        "    value_rest.remove(primer_valores[i][0])\r\n",
        "    value_rest.remove(primer_valores[i][1])\r\n",
        "\r\n",
        "    # reservo las operaciones que restan\r\n",
        "    oper_pend = list(primer_operac[i][-2:])\r\n",
        "\r\n",
        "    #calculo la siguiente tanda de posibles valores con 3 números y 2 operadores\r\n",
        "\r\n",
        "    for j in range(len(value_rest)):\r\n",
        "      segundos = opera(primer_resul[i],value_rest[j],primer_operac[i][1])\r\n",
        "\r\n",
        "      value = value_rest[:]\r\n",
        "      value.remove(value_rest[j])\r\n",
        "\r\n",
        "      maximo = eval(segundos,value,oper_pend,maxim)\r\n",
        "      minimo = eval(segundos,value,oper_pend,minim)\r\n",
        "\r\n",
        "      if valor <= maximo and valor >= minimo:\r\n",
        "\r\n",
        "        segun_resul.append(segundos)\r\n",
        "        segun_operac.append(primer_operac[i])\r\n",
        "\r\n",
        "        valores_selecionados = list(primer_valores[i])\r\n",
        "        valores_selecionados.append(value_rest[j])\r\n",
        "        segun_valores.append(valores_selecionados)\r\n",
        "      \r\n",
        "  resultado=[]\r\n",
        "\r\n",
        "\r\n",
        "  for i in range(len(segun_resul)):\r\n",
        "\r\n",
        "    # Reservo los valores no utilizados todavia\r\n",
        "    value_rest = num_disp[:]\r\n",
        "    value_rest.remove(segun_valores[i][0])\r\n",
        "    value_rest.remove(segun_valores[i][1])\r\n",
        "    value_rest.remove(segun_valores[i][2])\r\n",
        "\r\n",
        "    # reservo las operaciones que restan\r\n",
        "    oper_pend = list(segun_operac[i][-1:])\r\n",
        "\r\n",
        "    for j in range(len(value_rest)):\r\n",
        "      terceros = opera(segun_resul[i],value_rest[j],segun_operac[i][2])\r\n",
        "\r\n",
        "      value = value_rest[:]\r\n",
        "      value.remove(value_rest[j])\r\n",
        "\r\n",
        "      maximo = eval(terceros,value,oper_pend,maxim)\r\n",
        "      minimo = eval(terceros,value,oper_pend,minim)\r\n",
        "\r\n",
        "      if valor <= maximo and valor >= minimo:\r\n",
        "\r\n",
        "        tercer_resul.append(terceros)\r\n",
        "\r\n",
        "        tercer_operac.append(segun_operac[i])\r\n",
        "\r\n",
        "        valores_selecionados = list(segun_valores[i])\r\n",
        "        valores_selecionados.append(value_rest[j])\r\n",
        "        tercer_valores.append(valores_selecionados)\r\n",
        "\r\n",
        "    # calculo la siguiente tanda de posibles valores con 4 números y 3 operadores\r\n",
        "\r\n",
        "  for i in range(len(segun_resul)):\r\n",
        "\r\n",
        "    # Reservo los valores no utilizados todavia\r\n",
        "    value_rest = num_disp[:]\r\n",
        "    value_rest.remove(tercer_valores[i][0])\r\n",
        "    value_rest.remove(tercer_valores[i][1])\r\n",
        "    value_rest.remove(tercer_valores[i][2])\r\n",
        "    value_rest.remove(tercer_valores[i][3])\r\n",
        "\r\n",
        "    # reservo las operaciones que restan\r\n",
        "    oper_pend = tercer_operac[i][-1]\r\n",
        "\r\n",
        "    for j in range(len(value_rest)):\r\n",
        "\r\n",
        "      resultado_final = opera(tercer_resul[i],value_rest[j],oper_pend)\r\n",
        "\r\n",
        "      if valor == resultado_final:\r\n",
        "\r\n",
        "        final_resul.append(resultado_final)\r\n",
        "\r\n",
        "        final_operac.append(tercer_operac[i])\r\n",
        "\r\n",
        "        valores_selecionados = list(tercer_valores[i])\r\n",
        "        valores_selecionados.append(value_rest[j])\r\n",
        "        final_valores.append(valores_selecionados)\r\n",
        "\r\n",
        "  simbolo_operaciones=[]\r\n",
        "\r\n",
        "  for i in final_operac:\r\n",
        "    simbolo_operaciones.append(list(i))\r\n",
        "\r\n",
        "  for i in range(len(simbolo_operaciones)):\r\n",
        "    for j in range(len(simbolo_operaciones[i])):\r\n",
        "\r\n",
        "      if simbolo_operaciones[i][j] == 'suma':\r\n",
        "        simbolo_operaciones[i][j] = \"+\"\r\n",
        "\r\n",
        "      if simbolo_operaciones[i][j] == \"resta\":\r\n",
        "        simbolo_operaciones[i][j] = \"-\"\r\n",
        "\r\n",
        "      if simbolo_operaciones[i][j] == \"multiplicacion\":\r\n",
        "        simbolo_operaciones[i][j] = \"x\"\r\n",
        "\r\n",
        "      if simbolo_operaciones[i][j] == \"division\":\r\n",
        "        simbolo_operaciones[i][j] = \"/\"\r\n",
        "\r\n",
        "\r\n",
        "  return final_resul, simbolo_operaciones, final_valores"
      ],
      "execution_count": 17,
      "outputs": []
    },
    {
      "cell_type": "code",
      "metadata": {
        "colab": {
          "base_uri": "https://localhost:8080/",
          "height": 0
        },
        "id": "hzk_iGvQXsXr",
        "outputId": "e22a5874-8906-4ca0-c683-0b636aaef261"
      },
      "source": [
        "print(\"introduce el valor que desees encontrar\")\r\n",
        "valor= int(input())\r\n",
        "\r\n",
        "resultado,operaciones,valores = ramificacion_y_poda(valor)\r\n",
        "\r\n",
        "\r\n",
        "print(\"un ejemplo de algunas de estas pueden ser:\")\r\n",
        "print(\"\")\r\n",
        "\r\n",
        "if len(resultado) < 20 :\r\n",
        "  for i in range(len(resultado)):\r\n",
        "    print(valores[i][0],operaciones[i][0],valores[i][1],operaciones[i][1],valores[i][2],operaciones[i][2],valores[i][3],operaciones[i][3],valores[i][4],\"=\",resultado[i])\r\n",
        "\r\n",
        "else:\r\n",
        "  for i in range(20):\r\n",
        "    print(valores[i][0],operaciones[i][0],valores[i][1],operaciones[i][1],valores[i][2],operaciones[i][2],valores[i][3],operaciones[i][3],valores[i][4],\"=\",resultado[i])\r\n",
        "\r\n",
        "if len(resultado)==0 :\r\n",
        "  print(\"No se a encontrado ningún tipo de conjunto que encuentre este valor\")"
      ],
      "execution_count": 18,
      "outputs": [
        {
          "output_type": "stream",
          "text": [
            "introduce el valor que desees encontrar\n",
            "56\n",
            "un ejemplo de algunas de estas pueden ser:\n",
            "\n",
            "1 / 2 + 7 x 8 - 4 = 56.0\n",
            "1 - 3 / 2 + 9 x 7 = 56.0\n",
            "1 - 4 / 3 + 9 x 7 = 56.0\n",
            "1 / 4 + 7 x 8 - 2 = 56.0\n",
            "1 - 5 / 4 + 9 x 7 = 56.0\n",
            "1 - 6 / 5 + 9 x 7 = 56.0\n",
            "2 - 1 / 3 + 9 x 6 = 56.0\n",
            "2 / 1 + 9 - 3 x 7 = 56.0\n",
            "2 / 1 + 9 - 4 x 8 = 56.0\n",
            "2 / 1 + 5 x 9 - 7 = 56.0\n",
            "2 / 1 + 8 x 6 - 4 = 56.0\n",
            "2 / 1 - 3 + 9 x 7 = 56.0\n",
            "2 - 3 + 9 x 7 / 1 = 56.0\n",
            "2 - 3 + 9 / 1 x 7 = 56.0\n",
            "2 - 3 / 1 + 9 x 7 = 56.0\n",
            "2 / 3 + 6 x 9 - 4 = 56.0\n",
            "2 - 4 + 9 x 8 / 1 = 56.0\n",
            "2 - 4 + 9 / 1 x 8 = 56.0\n",
            "2 / 4 + 9 x 6 - 1 = 56.0\n",
            "2 + 5 x 9 - 7 / 1 = 56.0\n"
          ],
          "name": "stdout"
        }
      ]
    },
    {
      "cell_type": "markdown",
      "metadata": {
        "id": "eGDB4K6uk1iN"
      },
      "source": [
        "(*)Calcula la complejidad del algoritmo "
      ]
    },
    {
      "cell_type": "markdown",
      "metadata": {
        "id": "NhpTh_BPk1ms"
      },
      "source": [
        "Respuesta"
      ]
    },
    {
      "cell_type": "markdown",
      "metadata": {
        "id": "U-65RpaxpBW4"
      },
      "source": [
        "En es te algoritmo, si asumimos el peor de los casos, obetenmos una complejidad similar a la que obtenemos con el de fuerza bruta. Esto se debe a que en la pero situación, debemos recorrer todas las posibles situaciones. A esto se suma que debemos realizar la misma operación 4 veces ya que vamos añadiendo elementos para comprobarlo. \r\n",
        "Sin embargo esto es imposible que suceda a la práctica, por lo que obtenemos una complejidad similar sin embargo, reducimos considerablemente el número de operaciones en cada bucle y el número de bucles en función de los resultados obtenidos.\r\n",
        "\r\n",
        "Podemos definir la complejidad como:\r\n",
        "\r\n",
        " - o(n**a)\r\n",
        "\r\n"
      ]
    },
    {
      "cell_type": "markdown",
      "metadata": {
        "id": "3M6QjTsSkmYe"
      },
      "source": [
        "Según el problema (y tenga sentido), diseña un juego de datos de entrada aleatorios"
      ]
    },
    {
      "cell_type": "markdown",
      "metadata": {
        "id": "Jc3_OlyNkvjZ"
      },
      "source": [
        "Respuesta"
      ]
    },
    {
      "cell_type": "markdown",
      "metadata": {
        "id": "6dWZJKw6mp9d"
      },
      "source": [
        "Si no existe un método para calcular el valor, el algoritmo te devuelve un string donde te avisa. Por lo que cualquier valor entero es una posible entrada.\r\n",
        "Para generar un valor de entrada podría ser:"
      ]
    },
    {
      "cell_type": "code",
      "metadata": {
        "id": "56Fgkg0Znie0"
      },
      "source": [
        "import random"
      ],
      "execution_count": 19,
      "outputs": []
    },
    {
      "cell_type": "code",
      "metadata": {
        "id": "sJ-N2etjkyWc",
        "colab": {
          "base_uri": "https://localhost:8080/",
          "height": 0
        },
        "outputId": "07d2de0b-554a-4a34-9704-d16bb48495eb"
      },
      "source": [
        "valor = random.randrange(0, 110)\r\n",
        "print(\"El valor objetivo es:\",valor)"
      ],
      "execution_count": 20,
      "outputs": [
        {
          "output_type": "stream",
          "text": [
            "El valor objetivo es: 75\n"
          ],
          "name": "stdout"
        }
      ]
    },
    {
      "cell_type": "markdown",
      "metadata": {
        "id": "zy5ZROmjlGo1"
      },
      "source": [
        "Aplica el algoritmo al juego de datos generado"
      ]
    },
    {
      "cell_type": "markdown",
      "metadata": {
        "id": "_Cmj-PVylMsa"
      },
      "source": [
        "Respuesta"
      ]
    },
    {
      "cell_type": "code",
      "metadata": {
        "id": "Jkx8GeiYlUz1",
        "colab": {
          "base_uri": "https://localhost:8080/",
          "height": 0
        },
        "outputId": "c7e1ecab-2004-48d3-d918-f5f4cb1197de"
      },
      "source": [
        "resultado,operaciones,valores = fuerza_bruta(valor)\r\n",
        "\r\n",
        "print(\"un ejemplo de algunas de estas pueden ser:\")\r\n",
        "print(\"\")\r\n",
        "\r\n",
        "if len(resultado) < 10 :\r\n",
        "  for i in range(len(resultado)):\r\n",
        "    print(valores[i][0],operaciones[i][0],valores[i][1],operaciones[i][1],valores[i][2],operaciones[i][2],valores[i][3],operaciones[i][3],valores[i][4],\"=\",resultado[i])\r\n",
        "\r\n",
        "else:\r\n",
        "  for i in range(10):\r\n",
        "    print(valores[i][0],operaciones[i][0],valores[i][1],operaciones[i][1],valores[i][2],operaciones[i][2],valores[i][3],operaciones[i][3],valores[i][4],\"=\",resultado[i])\r\n",
        "\r\n",
        "if len(resultado)==0 :\r\n",
        "  print(\"No se a encontrado ningún tipo de conjunto que encuentre este valor\")"
      ],
      "execution_count": 21,
      "outputs": [
        {
          "output_type": "stream",
          "text": [
            "un ejemplo de algunas de estas pueden ser:\n",
            "\n",
            "8 + 9 - 2 x 5 / 1 = 75.0\n",
            "9 + 8 - 2 x 5 / 1 = 75.0\n",
            "8 + 9 - 2 / 1 x 5 = 75.0\n",
            "9 + 8 - 2 / 1 x 5 = 75.0\n",
            "2 + 7 x 9 - 6 / 1 = 75.0\n",
            "3 + 7 x 8 - 5 / 1 = 75.0\n",
            "3 + 8 x 7 - 2 / 1 = 75.0\n",
            "4 + 5 x 9 - 6 / 1 = 75.0\n",
            "4 + 6 x 8 - 5 / 1 = 75.0\n",
            "4 + 8 x 7 - 9 / 1 = 75.0\n"
          ],
          "name": "stdout"
        }
      ]
    },
    {
      "cell_type": "code",
      "metadata": {
        "colab": {
          "base_uri": "https://localhost:8080/",
          "height": 0
        },
        "id": "L6YO8qbooRct",
        "outputId": "7a43500e-5faf-497e-cd3a-4d55e7365175"
      },
      "source": [
        "resultado,operaciones,valores = ramificacion_y_poda(valor)\r\n",
        "\r\n",
        "print(\"un ejemplo de algunas de estas pueden ser:\")\r\n",
        "print(\"\")\r\n",
        "\r\n",
        "if len(resultado) < 10 :\r\n",
        "  for i in range(len(resultado)):\r\n",
        "    print(valores[i][0],operaciones[i][0],valores[i][1],operaciones[i][1],valores[i][2],operaciones[i][2],valores[i][3],operaciones[i][3],valores[i][4],\"=\",resultado[i])\r\n",
        "\r\n",
        "else:\r\n",
        "  for i in range(10):\r\n",
        "    print(valores[i][0],operaciones[i][0],valores[i][1],operaciones[i][1],valores[i][2],operaciones[i][2],valores[i][3],operaciones[i][3],valores[i][4],\"=\",resultado[i])\r\n",
        "\r\n",
        "if len(resultado)==0 :\r\n",
        "  print(\"No se a encontrado ningún tipo de conjunto que encuentre este valor\")"
      ],
      "execution_count": 22,
      "outputs": [
        {
          "output_type": "stream",
          "text": [
            "un ejemplo de algunas de estas pueden ser:\n",
            "\n",
            "2 - 1 / 3 + 8 x 9 = 75.0\n",
            "2 / 1 + 7 x 9 - 6 = 75.0\n",
            "2 / 4 + 9 x 8 - 1 = 75.0\n",
            "2 + 7 x 9 - 6 / 1 = 75.0\n",
            "2 + 7 x 9 / 1 - 6 = 75.0\n",
            "2 + 7 / 1 x 9 - 6 = 75.0\n",
            "3 - 1 / 6 + 8 x 9 = 75.0\n",
            "3 / 1 + 7 x 8 - 5 = 75.0\n",
            "3 / 1 + 8 x 7 - 2 = 75.0\n",
            "3 / 6 + 9 x 8 - 1 = 75.0\n"
          ],
          "name": "stdout"
        }
      ]
    },
    {
      "cell_type": "markdown",
      "metadata": {
        "id": "eTFWUJQrtGcv"
      },
      "source": [
        "Enumera las referencias que has utilizado(si ha sido necesario) para llevar a cabo el trabajo"
      ]
    },
    {
      "cell_type": "markdown",
      "metadata": {
        "id": "YKQ_mRBttWsP"
      },
      "source": [
        "Respuesta"
      ]
    },
    {
      "cell_type": "markdown",
      "metadata": {
        "id": "kAkDPUyRtYyH"
      },
      "source": [
        "Describe brevemente las lineas de como crees que es posible avanzar en el estudio del problema. Ten en cuenta incluso posibles variaciones del problema y/o variaciones al alza del tamaño"
      ]
    },
    {
      "cell_type": "markdown",
      "metadata": {
        "id": "IE0uZmo-tZu-"
      },
      "source": [
        "Respuesta"
      ]
    },
    {
      "cell_type": "markdown",
      "metadata": {
        "id": "-VxgdTBlogbk"
      },
      "source": [
        "Un par de aspectos mejorables en este código podrian ser:\r\n",
        "\r\n",
        " - Compresión de código a través de funciónes sobre todo en el código escrito en el interior de la función de ramificación y poda.\r\n",
        "\r\n",
        " - Otro punto a revisar podría ser la función eval(), para asegurarnos que evaluamos el resultado máximo y mínimo posible para el conjunto de valores dados"
      ]
    }
  ]
}