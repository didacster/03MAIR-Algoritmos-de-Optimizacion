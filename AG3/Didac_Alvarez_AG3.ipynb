{
  "nbformat": 4,
  "nbformat_minor": 0,
  "metadata": {
    "colab": {
      "name": "Didac_Alvarez_AG3.ipynb",
      "provenance": [],
      "collapsed_sections": [],
      "toc_visible": true
    },
    "kernelspec": {
      "display_name": "Python 3",
      "language": "python",
      "name": "python3"
    },
    "language_info": {
      "codemirror_mode": {
        "name": "ipython",
        "version": 3
      },
      "file_extension": ".py",
      "mimetype": "text/x-python",
      "name": "python",
      "nbconvert_exporter": "python",
      "pygments_lexer": "ipython3",
      "version": "3.8.3"
    }
  },
  "cells": [
    {
      "cell_type": "markdown",
      "metadata": {
        "id": "heHjLbs2vqiw"
      },
      "source": [
        "# Algoritmos - Actividad Guiada 3\n",
        "\n",
        "\n",
        "\n",
        "\n"
      ]
    },
    {
      "cell_type": "markdown",
      "metadata": {
        "id": "sYkth5qStnMI"
      },
      "source": [
        "Nombre: Didac Alvarez Benedicto <br>\n",
        "URL: [https://colab.research.google.com/drive/1arTMlnRj5N-bCLC-cGtoqVYTG0PB2lpd?usp=sharing](https://colab.research.google.com/drive/1arTMlnRj5N-bCLC-cGtoqVYTG0PB2lpd?usp=sharing)"
      ]
    },
    {
      "cell_type": "code",
      "metadata": {
        "colab": {
          "base_uri": "https://localhost:8080/"
        },
        "id": "QRrvI9zsRMIS",
        "outputId": "0a5ecda9-27b4-4c37-8980-a52a91c02403"
      },
      "source": [
        "!pip install requests    #Hacer llamadas http a paginas de la red\r\n",
        "!pip install tsplib95    #Modulo para las instancias del problema del TSP"
      ],
      "execution_count": 1,
      "outputs": [
        {
          "output_type": "stream",
          "text": [
            "Requirement already satisfied: requests in /usr/local/lib/python3.6/dist-packages (2.23.0)\n",
            "Requirement already satisfied: idna<3,>=2.5 in /usr/local/lib/python3.6/dist-packages (from requests) (2.10)\n",
            "Requirement already satisfied: chardet<4,>=3.0.2 in /usr/local/lib/python3.6/dist-packages (from requests) (3.0.4)\n",
            "Requirement already satisfied: certifi>=2017.4.17 in /usr/local/lib/python3.6/dist-packages (from requests) (2020.12.5)\n",
            "Requirement already satisfied: urllib3!=1.25.0,!=1.25.1,<1.26,>=1.21.1 in /usr/local/lib/python3.6/dist-packages (from requests) (1.24.3)\n",
            "Collecting tsplib95\n",
            "  Downloading https://files.pythonhosted.org/packages/a0/2b/b1932d3674758ec5f49afa72d4519334a5ac2aac4d96cfd416eb872a1959/tsplib95-0.7.1-py2.py3-none-any.whl\n",
            "Requirement already satisfied: networkx~=2.1 in /usr/local/lib/python3.6/dist-packages (from tsplib95) (2.5)\n",
            "Collecting Deprecated~=1.2.9\n",
            "  Downloading https://files.pythonhosted.org/packages/d4/56/7d4774533d2c119e1873993d34d313c9c9efc88c5e4ab7e33bdf915ad98c/Deprecated-1.2.11-py2.py3-none-any.whl\n",
            "Requirement already satisfied: Click>=6.0 in /usr/local/lib/python3.6/dist-packages (from tsplib95) (7.1.2)\n",
            "Requirement already satisfied: tabulate~=0.8.7 in /usr/local/lib/python3.6/dist-packages (from tsplib95) (0.8.7)\n",
            "Requirement already satisfied: decorator>=4.3.0 in /usr/local/lib/python3.6/dist-packages (from networkx~=2.1->tsplib95) (4.4.2)\n",
            "Requirement already satisfied: wrapt<2,>=1.10 in /usr/local/lib/python3.6/dist-packages (from Deprecated~=1.2.9->tsplib95) (1.12.1)\n",
            "Installing collected packages: Deprecated, tsplib95\n",
            "Successfully installed Deprecated-1.2.11 tsplib95-0.7.1\n"
          ],
          "name": "stdout"
        }
      ]
    },
    {
      "cell_type": "code",
      "metadata": {
        "id": "Qbuy6xB6Rhsl"
      },
      "source": [
        "import tsplib95       #Modulo para las instancias del problema del TSP\r\n",
        "import random         #Modulo para generar números aleatorios\r\n",
        "import math           #módulo math\r\n",
        "import copy           #Para copia profunda de estructuras de datos(en python la asignación es por referencia)"
      ],
      "execution_count": 2,
      "outputs": []
    },
    {
      "cell_type": "code",
      "metadata": {
        "colab": {
          "base_uri": "https://localhost:8080/"
        },
        "id": "vLMhz4oZRhvE",
        "outputId": "db22f2c3-d6fc-4da2-cbc3-9ce5bcf70a9f"
      },
      "source": [
        "import urllib.request #Hacer llamadas http a paginas de la red\r\n",
        "\r\n",
        "#http://elib.zib.de/pub/mp-testdata/tsp/tsplib/\r\n",
        "#Documentacion : \r\n",
        "  # http://comopt.ifi.uni-heidelberg.de/software/TSPLIB95/tsp95.pdf\r\n",
        "  # https://tsplib95.readthedocs.io/en/stable/pages/usage.html\r\n",
        "  # https://tsplib95.readthedocs.io/en/v0.6.1/modules.html\r\n",
        "  # https://pypi.org/project/tsplib95/\r\n",
        "\r\n",
        "#Descargamos el fichero de datos(Matriz de distancias)\r\n",
        "file = \"swiss42.tsp\" ; \r\n",
        "urllib.request.urlretrieve(\"http://elib.zib.de/pub/mp-testdata/tsp/tsplib/tsp/swiss42.tsp\", file) \r\n",
        "\r\n",
        "#Coordendas 51-city problem (Christofides/Eilon)\r\n",
        "#file = \"eil51.tsp\" ; urllib.request.urlretrieve(\"http://elib.zib.de/pub/mp-testdata/tsp/tsplib/tsp/eil51.tsp\", file)\r\n",
        "\r\n",
        "#Coordenadas - 48 capitals of the US (Padberg/Rinaldi)\r\n",
        "#file = \"att48.tsp\" ; urllib.request.urlretrieve(\"http://elib.zib.de/pub/mp-testdata/tsp/tsplib/tsp/att48.tsp\", file)"
      ],
      "execution_count": 3,
      "outputs": [
        {
          "output_type": "execute_result",
          "data": {
            "text/plain": [
              "('swiss42.tsp', <http.client.HTTPMessage at 0x7fbde595f080>)"
            ]
          },
          "metadata": {
            "tags": []
          },
          "execution_count": 3
        }
      ]
    },
    {
      "cell_type": "code",
      "metadata": {
        "id": "z8EYfMlqRhxV"
      },
      "source": [
        "#Modulos extras, no esenciales\r\n",
        "import numpy as np\r\n",
        "import matplotlib.pyplot as plt\r\n",
        "import imageio                    #Para construir las imagenes con gif\r\n",
        "from google.colab import files    #Para descargar ficheros generados con google colab\r\n",
        "\r\n",
        "from tempfile import mkstemp      #Para genera carpetas y ficheros temporales\r\n",
        "#import tempfile"
      ],
      "execution_count": 4,
      "outputs": []
    },
    {
      "cell_type": "code",
      "metadata": {
        "id": "s7l3RSa2Rhzr"
      },
      "source": [
        "#Carga de datos y generación de objeto problem\r\n",
        "\r\n",
        "problem = tsplib95.load(file)\r\n",
        "\r\n",
        "#Nodos\r\n",
        "Nodos = list(problem.get_nodes())\r\n",
        "\r\n",
        "#Aristas\r\n",
        "Aristas = list(problem.get_edges())\r\n"
      ],
      "execution_count": 5,
      "outputs": []
    },
    {
      "cell_type": "code",
      "metadata": {
        "colab": {
          "base_uri": "https://localhost:8080/"
        },
        "id": "rXWPvNVDRh2D",
        "outputId": "bed356d5-dd77-4867-9d98-3c51a4a76ac2"
      },
      "source": [
        "#Probamos algunas funciones del objeto problem\r\n",
        "\r\n",
        "#Distancia entre nodos\r\n",
        "problem.get_weight(0, 1)\r\n",
        "\r\n",
        "#Todas las funciones\r\n",
        "#Documentación: https://tsplib95.readthedocs.io/en/v0.6.1/modules.html\r\n",
        "#dir(problem)"
      ],
      "execution_count": 6,
      "outputs": [
        {
          "output_type": "execute_result",
          "data": {
            "text/plain": [
              "15"
            ]
          },
          "metadata": {
            "tags": []
          },
          "execution_count": 6
        }
      ]
    },
    {
      "cell_type": "code",
      "metadata": {
        "id": "cKxfDYOpRh4S"
      },
      "source": [
        " \r\n",
        "#Funcionas basicas      \r\n",
        "     \r\n",
        "#Se genera una solucion aleatoria con comienzo en en el nodo 0\r\n",
        "def crear_solucion(Nodos): \r\n",
        "  solucion = [Nodos[0]]\r\n",
        "  for n in Nodos[1:]:\r\n",
        "    solucion = solucion + [random.choice(list(set(Nodos) - set({Nodos[0]}) - set(solucion)))]\r\n",
        "  return solucion \r\n",
        "\r\n",
        "#Devuelve la distancia entre dos nodos\r\n",
        "def distancia(a,b, problem):\r\n",
        "  return problem.get_weight(a,b)\r\n",
        "\r\n",
        "#Devuelve la distancia total de una trayectoria/solucion\r\n",
        "def distancia_total(solucion, problem):\r\n",
        "  distancia_total = 0\r\n",
        "  for i in range(len(solucion)-1):\r\n",
        "    distancia_total += distancia(solucion[i] ,solucion[i+1] ,  problem)\r\n",
        "  return distancia_total + distancia(solucion[len(solucion)-1] ,solucion[0], problem)\r\n",
        "\r\n",
        "\r\n",
        " "
      ],
      "execution_count": 7,
      "outputs": []
    },
    {
      "cell_type": "code",
      "metadata": {
        "colab": {
          "base_uri": "https://localhost:8080/"
        },
        "id": "5QByi5egRh6O",
        "outputId": "ba158838-9d67-48a8-acb8-465345b37595"
      },
      "source": [
        "def busqueda_aleatoria(problem, N):\r\n",
        "  \r\n",
        "  Nodos = list(problem.get_nodes())\r\n",
        "  \r\n",
        "  mejor_solucion = []\r\n",
        "  mejor_distancia = 10e100                          #Inicializamos con un valor alto\r\n",
        "  \r\n",
        "  for i in range(N):                                #Criterio de parada: repetir N veces pero podemos incluir otros\r\n",
        "    solucion = crear_solucion(Nodos)                #Genera una solucion aleatoria\r\n",
        "    distancia = distancia_total(solucion, problem)  #Calcula el valor objetivo(distancia total)\r\n",
        "    \r\n",
        "    if distancia < mejor_distancia:                 #Compara con la mejor obtenida hasta ahora\r\n",
        "      mejor_solucion = solucion\r\n",
        "      mejor_distancia = distancia\r\n",
        "      \r\n",
        "      \r\n",
        "  print(\"Mejor solución:\" , mejor_solucion) \r\n",
        "  print(\"Distancia     :\" , mejor_distancia) \r\n",
        "  return mejor_solucion  \r\n",
        "\r\n",
        "    \r\n",
        "    \r\n",
        "solucion = busqueda_aleatoria(problem, 5000)    \r\n",
        " "
      ],
      "execution_count": 8,
      "outputs": [
        {
          "output_type": "stream",
          "text": [
            "Mejor solución: [0, 20, 28, 23, 24, 32, 31, 37, 2, 26, 17, 34, 18, 12, 41, 10, 8, 3, 1, 14, 40, 39, 38, 30, 11, 9, 13, 15, 36, 35, 25, 22, 21, 27, 29, 6, 4, 16, 19, 33, 5, 7]\n",
            "Distancia     : 3774\n"
          ],
          "name": "stdout"
        }
      ]
    },
    {
      "cell_type": "code",
      "metadata": {
        "colab": {
          "base_uri": "https://localhost:8080/"
        },
        "id": "S0C8dhwuRsKu",
        "outputId": "179291a5-7982-4fc2-ae1d-c960bf3f6e67"
      },
      "source": [
        "def genera_vecina(solucion):\r\n",
        "  #Generador de soluciones vecinas: 2-opt (intercambiar 2 nodos) Si hay N nodos se generan (N-1)x(N-2)/2 soluciones\r\n",
        "  #print(solucion)\r\n",
        "  mejor_solucion = []\r\n",
        "  mejor_distancia = 10e100\r\n",
        "  for i in range(1,len(solucion)-1):          #Recorremos todos los nodos en bucle doble para evaluar todos los intercambios 2-opt\r\n",
        "    for j in range(i+1, len(solucion)):\r\n",
        "      \r\n",
        "      #Se genera una nueva solución intercambiando los dos nodos i,j:\r\n",
        "      #  (usamos el operador + que para listas en python las concatena) : ej.: [1,2] + [3] = [1,2,3]\r\n",
        "      vecina = solucion[:i] + [solucion[j]] + solucion[i+1:j] + [solucion[i]] + solucion[j+1:]  \r\n",
        "\r\n",
        "      #Se evalua la nueva solución ...\r\n",
        "      distancia_vecina = distancia_total(vecina, problem)         \r\n",
        "\r\n",
        "      #... para guardarla si mejora las anteriores\r\n",
        "      if distancia_vecina <= mejor_distancia:\r\n",
        "        mejor_distancia = distancia_vecina\r\n",
        "        mejor_solucion = vecina\r\n",
        "  return mejor_solucion\r\n",
        "\r\n",
        "\r\n",
        "#solucion = [1, 47, 13, 41, 40, 19, 42, 44, 37, 5, 22, 28, 3, 2, 29, 21, 50, 34, 30, 9, 16, 11, 38, 49, 10, 39, 33, 45, 15, 24, 43, 26, 31, 36, 35, 20, 8, 7, 23, 48, 27, 12, 17, 4, 18, 25, 14, 6, 51, 46, 32]\r\n",
        "print(\"Distancia Solucion Incial:\" , distancia_total(solucion, problem))\r\n",
        " \r\n",
        "\r\n",
        "nueva_solucion = genera_vecina(solucion)\r\n",
        "print(\"Distancia Solucion Local:\", distancia_total(nueva_solucion, problem))\r\n"
      ],
      "execution_count": 9,
      "outputs": [
        {
          "output_type": "stream",
          "text": [
            "Distancia Solucion Incial: 3774\n",
            "Distancia Solucion Local: 3507\n"
          ],
          "name": "stdout"
        }
      ]
    },
    {
      "cell_type": "code",
      "metadata": {
        "colab": {
          "base_uri": "https://localhost:8080/"
        },
        "id": "162ElyMIRsNH",
        "outputId": "63e8d10c-c564-4665-88ba-dc9e2a876a57"
      },
      "source": [
        "#Busqueda Local:\r\n",
        "#  - Sobre el operador de vecindad 2-opt(funcion genera_vecina)\r\n",
        "#  - Sin criterio de parada, se para cuando no es posible mejorar.\r\n",
        "def busqueda_local(problem):\r\n",
        "  mejor_solucion = []\r\n",
        "  \r\n",
        "  #Generar una solucion inicial de referencia(aleatoria)\r\n",
        "  solucion_referencia = crear_solucion(Nodos)\r\n",
        "  mejor_distancia = distancia_total(solucion_referencia, problem)\r\n",
        "\r\n",
        "  iteracion=0   #Un contador para saber las iteraciones que hacemos\r\n",
        "  while(1):\r\n",
        "    iteracion +=1     #Incrementamos el contador\r\n",
        "    #print('#',iteracion)\r\n",
        "\r\n",
        "    #Obtenemos la mejor vecina ...\r\n",
        "    vecina = genera_vecina(solucion_referencia)\r\n",
        "    #... y la evaluamos para ver si mejoramos respecto a lo encontrado hasta el momento\r\n",
        "    distancia_vecina = distancia_total(vecina, problem)\r\n",
        " \r\n",
        "    #Si no mejoramos hay que terminas. Hemos llegado a un minimo local(según nuestro operador de vencindad)\r\n",
        "    if distancia_vecina < mejor_distancia:\r\n",
        "      mejor_solucion = copy.deepcopy(vecina)   #Con copia profunda. Las copias en python son por referencia \r\n",
        "      mejor_distancia = distancia_vecina\r\n",
        "    else:\r\n",
        "      print(\"En la iteracion \", iteracion, \", la mejor solución encontrada es:\" , mejor_solucion) \r\n",
        "      print(\"Distancia     :\" , mejor_distancia) \r\n",
        "      return mejor_solucion\r\n",
        "      \r\n",
        "    solucion_referencia = vecina\r\n",
        " \r\n",
        " \r\n",
        "sol = busqueda_local(problem )  \r\n"
      ],
      "execution_count": 10,
      "outputs": [
        {
          "output_type": "stream",
          "text": [
            "En la iteracion  30 , la mejor solución encontrada es: [0, 20, 33, 35, 36, 31, 17, 15, 16, 14, 19, 13, 5, 26, 23, 40, 24, 21, 9, 10, 4, 3, 2, 39, 22, 38, 34, 32, 1, 6, 18, 12, 11, 25, 41, 8, 29, 30, 28, 27, 7, 37]\n",
            "Distancia     : 1827\n"
          ],
          "name": "stdout"
        }
      ]
    },
    {
      "cell_type": "code",
      "metadata": {
        "colab": {
          "base_uri": "https://localhost:8080/"
        },
        "id": "EXAGtRqERsPt",
        "outputId": "eb65c89c-95b1-4014-f08a-fb2f7c4a9f99"
      },
      "source": [
        "#Generador de 1 solucion vecina 2-opt aleatoria (intercambiar 2 nodos)\r\n",
        "def genera_vecina_aleatorio(solucion):\r\n",
        "\r\n",
        "  #Se eligen dos nodos aleatoriamente\r\n",
        "  i,j = sorted(random.sample( range(1,len(solucion)) , 2))\r\n",
        "  \r\n",
        "  #Devuelve una nueva solución pero intercambiando los dos nodos elegidos al azar\r\n",
        "  return solucion[:i] + [solucion[j]] + solucion[i+1:j] + [solucion[i]] + solucion[j+1:]\r\n",
        "  \r\n",
        " \r\n",
        "genera_vecina_aleatorio(solucion) \r\n"
      ],
      "execution_count": 11,
      "outputs": [
        {
          "output_type": "execute_result",
          "data": {
            "text/plain": [
              "[0,\n",
              " 39,\n",
              " 28,\n",
              " 23,\n",
              " 24,\n",
              " 32,\n",
              " 31,\n",
              " 37,\n",
              " 2,\n",
              " 26,\n",
              " 17,\n",
              " 34,\n",
              " 18,\n",
              " 12,\n",
              " 41,\n",
              " 10,\n",
              " 8,\n",
              " 3,\n",
              " 1,\n",
              " 14,\n",
              " 40,\n",
              " 20,\n",
              " 38,\n",
              " 30,\n",
              " 11,\n",
              " 9,\n",
              " 13,\n",
              " 15,\n",
              " 36,\n",
              " 35,\n",
              " 25,\n",
              " 22,\n",
              " 21,\n",
              " 27,\n",
              " 29,\n",
              " 6,\n",
              " 4,\n",
              " 16,\n",
              " 19,\n",
              " 33,\n",
              " 5,\n",
              " 7]"
            ]
          },
          "metadata": {
            "tags": []
          },
          "execution_count": 11
        }
      ]
    },
    {
      "cell_type": "code",
      "metadata": {
        "id": "cHXoAJwbRsR4"
      },
      "source": [
        "\r\n",
        "#Funcion de probabilidad para aceptar peores soluciones\r\n",
        "def probabilidad(T,d):\r\n",
        "  if random.random() <  math.exp( -1*d / T)  :\r\n",
        "    return True\r\n",
        "  else:\r\n",
        "    return False\r\n",
        "\r\n",
        "#Funcion de descenso de temperatura\r\n",
        "def bajar_temperatura(T):\r\n",
        "  return T*0.99\r\n",
        " \r\n",
        "def probabilidad(T,d):\r\n",
        "  if random.random() <  math.exp( -1*d / T)  :\r\n",
        "    return True\r\n",
        "  else:\r\n",
        "    return False"
      ],
      "execution_count": 12,
      "outputs": []
    },
    {
      "cell_type": "code",
      "metadata": {
        "colab": {
          "base_uri": "https://localhost:8080/"
        },
        "id": "70XRp7YYRsUF",
        "outputId": "47b9f6e2-5ba4-43c8-e4a0-77c9c734deab"
      },
      "source": [
        "def recocido_simulado(problem, TEMPERATURA ):\r\n",
        "  #problem = datos del problema\r\n",
        "  #T = Temperatura\r\n",
        "  \r\n",
        "  solucion_referencia = crear_solucion(Nodos)\r\n",
        "  distancia_referencia = distancia_total(solucion_referencia, problem)\r\n",
        "  \r\n",
        "  mejor_solucion = []\r\n",
        "  mejor_distancia = 10e100\r\n",
        "  \r\n",
        "  \r\n",
        "  N=0\r\n",
        "  while TEMPERATURA > .0001:\r\n",
        "    N+=1\r\n",
        "    #Genera una solución vecina\r\n",
        "    vecina =genera_vecina_aleatorio(solucion_referencia)\r\n",
        "    \r\n",
        "    #Calcula su valor(distancia)\r\n",
        "    distancia_vecina = distancia_total(vecina, problem)\r\n",
        "      \r\n",
        "    #Si es la mejor solución de todas se guarda(siempre!!!)\r\n",
        "    if distancia_vecina < mejor_distancia:\r\n",
        "        mejor_solucion = vecina\r\n",
        "        mejor_distancia = distancia_vecina\r\n",
        "    \r\n",
        "    #Si la nueva vecina es mejor se cambia  \r\n",
        "    #Si es peor se cambia según una probabilidad que depende de T y delta(distancia_referencia - distancia_vecina)\r\n",
        "    if distancia_vecina < distancia_referencia or probabilidad(TEMPERATURA, abs(distancia_referencia - distancia_vecina) ) :\r\n",
        "      solucion_referencia = copy.deepcopy(vecina)\r\n",
        "      distancia_referencia = distancia_vecina\r\n",
        "\r\n",
        "    #Bajamos la temperatura\r\n",
        "    TEMPERATURA = bajar_temperatura(TEMPERATURA)\r\n",
        " \r\n",
        "  print(\"La mejor solución encontrada es \" , end=\"\")\r\n",
        "  print(mejor_solucion)\r\n",
        "  print(\"con una distancia total de \" , end=\"\")\r\n",
        "  print(mejor_distancia)\r\n",
        "  return mejor_solucion\r\n",
        "\r\n",
        "sol  = recocido_simulado(problem, 10000000)\r\n",
        "\r\n",
        " \r\n"
      ],
      "execution_count": 18,
      "outputs": [
        {
          "output_type": "stream",
          "text": [
            "La mejor solución encontrada es [0, 32, 31, 20, 33, 34, 27, 4, 6, 26, 5, 7, 37, 16, 15, 14, 19, 13, 18, 12, 11, 25, 10, 23, 21, 24, 40, 41, 8, 30, 29, 9, 39, 38, 22, 28, 2, 3, 1, 17, 36, 35]\n",
            "con una distancia total de 1779\n"
          ],
          "name": "stdout"
        }
      ]
    }
  ]
}