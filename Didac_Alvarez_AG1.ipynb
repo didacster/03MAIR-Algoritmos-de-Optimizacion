{
  "nbformat": 4,
  "nbformat_minor": 0,
  "metadata": {
    "colab": {
      "name": "Didac Alvarez-AG1.ipynb",
      "provenance": [],
      "collapsed_sections": [],
      "toc_visible": true
    },
    "kernelspec": {
      "name": "python3",
      "display_name": "Python 3"
    }
  },
  "cells": [
    {
      "cell_type": "markdown",
      "metadata": {
        "id": "heHjLbs2vqiw"
      },
      "source": [
        "# Algoritmos - Actividad Guiada 1"
      ]
    },
    {
      "cell_type": "markdown",
      "metadata": {
        "id": "sYkth5qStnMI"
      },
      "source": [
        "Nombre: Didac Alvarez Benedicto <br>\r\n",
        "URL: https://colab.research.google.com/drive/1R6e8pzDcSyLGEZsw1eZrhCP9pdh9Aw0Q?usp=sharing"
      ]
    },
    {
      "cell_type": "code",
      "metadata": {
        "id": "N6zX1v5wRFED"
      },
      "source": [
        "import random"
      ],
      "execution_count": 1,
      "outputs": []
    },
    {
      "cell_type": "markdown",
      "metadata": {
        "id": "U-zJcPkYxJJe"
      },
      "source": [
        "## Torres de Hanoi con Divide y vencerás"
      ]
    },
    {
      "cell_type": "code",
      "metadata": {
        "colab": {
          "base_uri": "https://localhost:8080/"
        },
        "id": "1S526Jj9xNxU",
        "outputId": "75e11f7c-7533-47cf-abab-568a90483340"
      },
      "source": [
        "def Torres_Hanoi(N, desde, hasta):\r\n",
        "  if N==1:\r\n",
        "    print(\"lleva la ficha\", desde, \"hasta\", hasta)\r\n",
        "\r\n",
        "  else:\r\n",
        "    Torres_Hanoi(N-1, desde,list({1,2,3} - {desde,hasta})[0] )\r\n",
        "    print(\"lleva la ficha\",desde,\"hasta\",hasta)\r\n",
        "    Torres_Hanoi(N-1,list({1,2,3} - {desde,hasta})[0], hasta )\r\n",
        "\r\n",
        "\r\n",
        "Torres_Hanoi(5, 1, 3)"
      ],
      "execution_count": 2,
      "outputs": [
        {
          "output_type": "stream",
          "text": [
            "lleva la ficha 1 hasta 3\n",
            "lleva la ficha 1 hasta 2\n",
            "lleva la ficha 3 hasta 2\n",
            "lleva la ficha 1 hasta 3\n",
            "lleva la ficha 2 hasta 1\n",
            "lleva la ficha 2 hasta 3\n",
            "lleva la ficha 1 hasta 3\n",
            "lleva la ficha 1 hasta 2\n",
            "lleva la ficha 3 hasta 2\n",
            "lleva la ficha 3 hasta 1\n",
            "lleva la ficha 2 hasta 1\n",
            "lleva la ficha 3 hasta 2\n",
            "lleva la ficha 1 hasta 3\n",
            "lleva la ficha 1 hasta 2\n",
            "lleva la ficha 3 hasta 2\n",
            "lleva la ficha 1 hasta 3\n",
            "lleva la ficha 2 hasta 1\n",
            "lleva la ficha 2 hasta 3\n",
            "lleva la ficha 1 hasta 3\n",
            "lleva la ficha 2 hasta 1\n",
            "lleva la ficha 3 hasta 2\n",
            "lleva la ficha 3 hasta 1\n",
            "lleva la ficha 2 hasta 1\n",
            "lleva la ficha 2 hasta 3\n",
            "lleva la ficha 1 hasta 3\n",
            "lleva la ficha 1 hasta 2\n",
            "lleva la ficha 3 hasta 2\n",
            "lleva la ficha 1 hasta 3\n",
            "lleva la ficha 2 hasta 1\n",
            "lleva la ficha 2 hasta 3\n",
            "lleva la ficha 1 hasta 3\n"
          ],
          "name": "stdout"
        }
      ]
    },
    {
      "cell_type": "markdown",
      "metadata": {
        "id": "xRLkWTEp7EuF"
      },
      "source": [
        "## Devolución de cambio de monedas por técnicas voraz\r\n"
      ]
    },
    {
      "cell_type": "code",
      "metadata": {
        "id": "eB69ukDVtrKD",
        "colab": {
          "base_uri": "https://localhost:8080/"
        },
        "outputId": "2f6d57ec-ee00-43ca-fad6-9bea81826d01"
      },
      "source": [
        "def cambio_monedas(N, SM):\r\n",
        "  SOLUCION = [0]*len(SM)\r\n",
        "  ValorAcumulado = 0\r\n",
        "\r\n",
        "  for i,valor in enumerate(SM):\r\n",
        "    monedas = (N - ValorAcumulado)//valor\r\n",
        "    SOLUCION[i] = monedas\r\n",
        "    ValorAcumulado = ValorAcumulado + monedas * valor \r\n",
        "\r\n",
        "  return SOLUCION\r\n",
        "\r\n",
        "    \r\n",
        "\r\n",
        "cambio_monedas(133, [100,25,10,5,1])"
      ],
      "execution_count": 3,
      "outputs": [
        {
          "output_type": "execute_result",
          "data": {
            "text/plain": [
              "[1, 1, 0, 1, 3]"
            ]
          },
          "metadata": {
            "tags": []
          },
          "execution_count": 3
        }
      ]
    },
    {
      "cell_type": "markdown",
      "metadata": {
        "id": "NUxR-jJW_CY2"
      },
      "source": [
        "## N - Reinas por técnicas de vueltas atrás"
      ]
    },
    {
      "cell_type": "code",
      "metadata": {
        "colab": {
          "base_uri": "https://localhost:8080/"
        },
        "id": "QLoSiKBC_M77",
        "outputId": "84a2f857-0cac-42ec-a051-3d1280990564"
      },
      "source": [
        "def es_prometedora(SOLUCION,etapa):\r\n",
        "\r\n",
        "  #print(SOLUCION)\r\n",
        "\r\n",
        "  #Si la solución tiene dos valores iguales no es valida => Dos reinas en la misma fila\r\n",
        "\r\n",
        "  for i in range(etapa+1):\r\n",
        "\r\n",
        "    #print(\"El valor \" + str(SOLUCION[i]) + \" está \" +  str(SOLUCION.count(SOLUCION[i])) + \" veces\")\r\n",
        "\r\n",
        "    if SOLUCION.count(SOLUCION[i]) > 1:       \r\n",
        "\r\n",
        "      return False\r\n",
        "\r\n",
        "  \r\n",
        "\r\n",
        "    #Verifica las diagonales\r\n",
        "\r\n",
        "    for j in range(i+1, etapa +1):\r\n",
        "\r\n",
        "      #print(\"Comprobando diagonal de \" + str(i) + \" y \" + str(j))\r\n",
        "\r\n",
        "      if abs(i-j) == abs(SOLUCION[i]-SOLUCION[j]) : return False\r\n",
        "\r\n",
        "  return True\r\n",
        "\r\n",
        "\r\n",
        "def reinas(N, solucion=[], etapa=0):\r\n",
        "   if len(solucion) == 0:\r\n",
        "\r\n",
        "    solucion=[0 for i in range(N)]\r\n",
        "\r\n",
        "   for i in range(1, N+1):\r\n",
        "    solucion[etapa] = i\r\n",
        "\r\n",
        "    if es_prometedora(solucion, etapa):\r\n",
        "      if etapa == N-1:\r\n",
        "        print(solucion)\r\n",
        "\r\n",
        "      else:\r\n",
        "        reinas(N, solucion, etapa+1)\r\n",
        "    else:\r\n",
        "      None\r\n",
        "    \r\n",
        "    solucion[etapa] = 0\r\n",
        "\r\n",
        "\r\n",
        "reinas(5)\r\n"
      ],
      "execution_count": 4,
      "outputs": [
        {
          "output_type": "stream",
          "text": [
            "[1, 3, 5, 2, 4]\n",
            "[1, 4, 2, 5, 3]\n",
            "[2, 4, 1, 3, 5]\n",
            "[2, 5, 3, 1, 4]\n",
            "[3, 1, 4, 2, 5]\n",
            "[3, 5, 2, 4, 1]\n",
            "[4, 1, 3, 5, 2]\n",
            "[4, 2, 5, 3, 1]\n",
            "[5, 2, 4, 1, 3]\n",
            "[5, 3, 1, 4, 2]\n"
          ],
          "name": "stdout"
        }
      ]
    },
    {
      "cell_type": "markdown",
      "metadata": {
        "id": "6L_20QzoRHP6"
      },
      "source": [
        "## Puntos mas cercanos por fuerza bruta y por divide y vencerás"
      ]
    },
    {
      "cell_type": "code",
      "metadata": {
        "id": "uUskuR-iQaRN"
      },
      "source": [
        "lista_1d = [random.randrange(1,10000) for x in range(1000)]\r\n",
        "\r\n",
        "lista_2d = [(random.randrange(1,10000),random.randrange(1,10000)) for x in range(1000)]"
      ],
      "execution_count": 5,
      "outputs": []
    },
    {
      "cell_type": "markdown",
      "metadata": {
        "id": "SV5GYQDYXegQ"
      },
      "source": [
        "###Fuerza bruta"
      ]
    },
    {
      "cell_type": "code",
      "metadata": {
        "colab": {
          "base_uri": "https://localhost:8080/"
        },
        "id": "HJNUPffPQaab",
        "outputId": "841ac283-5c65-4e82-8d1d-c6ab0aeaa7fb"
      },
      "source": [
        "def fuerza_dist_1d(lista_1d): \r\n",
        "\r\n",
        "  a = 0\r\n",
        "  b = 0\r\n",
        "\r\n",
        "  dif_final = 10000\r\n",
        "  for i in lista_1d:\r\n",
        "    for j in lista_1d:\r\n",
        "        dif = abs(i - j)\r\n",
        "\r\n",
        "        if dif < dif_final and dif != 0:\r\n",
        "          dif_final = dif\r\n",
        "          a = i\r\n",
        "          b = j\r\n",
        "  print(\"la distancia mínima entre valores es de \",dif_final, \"para los valores\", a , \"y\",b)\r\n",
        "\r\n",
        "fuerza_dist_1d(lista_1d)"
      ],
      "execution_count": 6,
      "outputs": [
        {
          "output_type": "stream",
          "text": [
            "la distancia mínima entre valores es de  1 para los valores 2882 y 2883\n"
          ],
          "name": "stdout"
        }
      ]
    }
  ]
}